{
  "cells": [
    {
      "cell_type": "markdown",
      "metadata": {
        "id": "CcUT6Fon_qRE"
      },
      "source": [
        "### Required Assignment 5.1: Will the Customer Accept the Coupon?\n",
        "\n",
        "**Context**\n",
        "\n",
        "Imagine driving through town and a coupon is delivered to your cell phone for a restaurant near where you are driving. Would you accept that coupon and take a short detour to the restaurant? Would you accept the coupon but use it on a subsequent trip? Would you ignore the coupon entirely? What if the coupon was for a bar instead of a restaurant? What about a coffee house? Would you accept a bar coupon with a minor passenger in the car? What about if it was just you and your partner in the car? Would weather impact the rate of acceptance? What about the time of day?\n",
        "\n",
        "Obviously, proximity to the business is a factor on whether the coupon is delivered to the driver or not, but what are the factors that determine whether a driver accepts the coupon once it is delivered to them? How would you determine whether a driver is likely to accept a coupon?\n",
        "\n",
        "**Overview**\n",
        "\n",
        "The goal of this project is to use what you know about visualizations and probability distributions to distinguish between customers who accepted a driving coupon versus those that did not.\n",
        "\n",
        "**Data**\n",
        "\n",
        "This data comes to us from the UCI Machine Learning repository and was collected via a survey on Amazon Mechanical Turk. The survey describes different driving scenarios including the destination, current time, weather, passenger, etc., and then ask the person whether he will accept the coupon if he is the driver. Answers that the user will drive there ‘right away’ or ‘later before the coupon expires’ are labeled as ‘Y = 1’ and answers ‘no, I do not want the coupon’ are labeled as ‘Y = 0’.  There are five different types of coupons -- less expensive restaurants (under \\$20), coffee houses, carry out & take away, bar, and more expensive restaurants (\\$20 - $50)."
      ]
    },
    {
      "cell_type": "markdown",
      "metadata": {
        "id": "1wORvMBJ_qRF"
      },
      "source": [
        "**Deliverables**\n",
        "\n",
        "Your final product should be a brief report that highlights the differences between customers who did and did not accept the coupons.  To explore the data you will utilize your knowledge of plotting, statistical summaries, and visualization using Python. You will publish your findings in a public facing github repository as your first portfolio piece.\n",
        "\n",
        "\n",
        "\n"
      ]
    },
    {
      "cell_type": "markdown",
      "metadata": {
        "id": "pG6_Ym6q_qRG"
      },
      "source": [
        "### Data Description\n",
        "Keep in mind that these values mentioned below are average values.\n",
        "\n",
        "The attributes of this data set include:\n",
        "1. User attributes\n",
        "    -  Gender: male, female\n",
        "    -  Age: below 21, 21 to 25, 26 to 30, etc.\n",
        "    -  Marital Status: single, married partner, unmarried partner, or widowed\n",
        "    -  Number of children: 0, 1, or more than 1\n",
        "    -  Education: high school, bachelors degree, associates degree, or graduate degree\n",
        "    -  Occupation: architecture & engineering, business & financial, etc.\n",
        "    -  Annual income: less than \\\\$12500, \\\\$12500 - \\\\$24999, \\\\$25000 - \\\\$37499, etc.\n",
        "    -  Number of times that he/she goes to a bar: 0, less than 1, 1 to 3, 4 to 8 or greater than 8\n",
        "    -  Number of times that he/she buys takeaway food: 0, less than 1, 1 to 3, 4 to 8 or greater\n",
        "    than 8\n",
        "    -  Number of times that he/she goes to a coffee house: 0, less than 1, 1 to 3, 4 to 8 or\n",
        "    greater than 8\n",
        "    -  Number of times that he/she eats at a restaurant with average expense less than \\\\$20 per\n",
        "    person: 0, less than 1, 1 to 3, 4 to 8 or greater than 8\n",
        "    -  Number of times that he/she goes to a bar: 0, less than 1, 1 to 3, 4 to 8 or greater than 8\n",
        "    \n",
        "\n",
        "2. Contextual attributes\n",
        "    - Driving destination: home, work, or no urgent destination\n",
        "    - Location of user, coupon and destination: we provide a map to show the geographical\n",
        "    location of the user, destination, and the venue, and we mark the distance between each\n",
        "    two places with time of driving. The user can see whether the venue is in the same\n",
        "    direction as the destination.\n",
        "    - Weather: sunny, rainy, or snowy\n",
        "    - Temperature: 30F, 55F, or 80F\n",
        "    - Time: 10AM, 2PM, or 6PM\n",
        "    - Passenger: alone, partner, kid(s), or friend(s)\n",
        "\n",
        "\n",
        "3. Coupon attributes\n",
        "    - time before it expires: 2 hours or one day"
      ]
    },
    {
      "cell_type": "code",
      "execution_count": 904,
      "metadata": {
        "id": "dzNoP3o__qRG"
      },
      "outputs": [],
      "source": [
        "import matplotlib.pyplot as plt\n",
        "import seaborn as sns\n",
        "import pandas as pd\n",
        "import numpy as np"
      ]
    },
    {
      "cell_type": "markdown",
      "metadata": {
        "id": "Ct8pI1uE_qRG"
      },
      "source": [
        "### Problems\n",
        "\n",
        "Use the prompts below to get started with your data analysis.  \n",
        "\n",
        "1. Read in the `coupons.csv` file.\n",
        "\n",
        "\n"
      ]
    },
    {
      "cell_type": "code",
      "execution_count": 905,
      "metadata": {
        "id": "X0vbffYg_qRH"
      },
      "outputs": [],
      "source": [
        "data = pd.read_csv('data/coupons.csv')"
      ]
    },
    {
      "cell_type": "code",
      "execution_count": 906,
      "metadata": {
        "id": "TXofQ_DF_qRH",
        "outputId": "2572f42c-ac3e-4932-b5dd-fe047e8487f2",
        "colab": {
          "base_uri": "https://localhost:8080/",
          "height": 342
        }
      },
      "outputs": [
        {
          "output_type": "execute_result",
          "data": {
            "text/plain": [
              "       destination  passanger weather  temperature  time  \\\n",
              "0  No Urgent Place      Alone   Sunny           55   2PM   \n",
              "1  No Urgent Place  Friend(s)   Sunny           80  10AM   \n",
              "2  No Urgent Place  Friend(s)   Sunny           80  10AM   \n",
              "3  No Urgent Place  Friend(s)   Sunny           80   2PM   \n",
              "4  No Urgent Place  Friend(s)   Sunny           80   2PM   \n",
              "\n",
              "                  coupon expiration  gender age      maritalStatus  ...  \\\n",
              "0        Restaurant(<20)         1d  Female  21  Unmarried partner  ...   \n",
              "1           Coffee House         2h  Female  21  Unmarried partner  ...   \n",
              "2  Carry out & Take away         2h  Female  21  Unmarried partner  ...   \n",
              "3           Coffee House         2h  Female  21  Unmarried partner  ...   \n",
              "4           Coffee House         1d  Female  21  Unmarried partner  ...   \n",
              "\n",
              "   CoffeeHouse CarryAway RestaurantLessThan20 Restaurant20To50  \\\n",
              "0        never       NaN                  4~8              1~3   \n",
              "1        never       NaN                  4~8              1~3   \n",
              "2        never       NaN                  4~8              1~3   \n",
              "3        never       NaN                  4~8              1~3   \n",
              "4        never       NaN                  4~8              1~3   \n",
              "\n",
              "  toCoupon_GEQ5min toCoupon_GEQ15min toCoupon_GEQ25min direction_same  \\\n",
              "0                1                 0                 0              0   \n",
              "1                1                 0                 0              0   \n",
              "2                1                 1                 0              0   \n",
              "3                1                 1                 0              0   \n",
              "4                1                 1                 0              0   \n",
              "\n",
              "  direction_opp  Y  \n",
              "0             1  1  \n",
              "1             1  0  \n",
              "2             1  1  \n",
              "3             1  0  \n",
              "4             1  0  \n",
              "\n",
              "[5 rows x 26 columns]"
            ],
            "text/html": [
              "\n",
              "  <div id=\"df-8cb4146c-7c3d-433f-9ca1-63bcbfd6beaa\" class=\"colab-df-container\">\n",
              "    <div>\n",
              "<style scoped>\n",
              "    .dataframe tbody tr th:only-of-type {\n",
              "        vertical-align: middle;\n",
              "    }\n",
              "\n",
              "    .dataframe tbody tr th {\n",
              "        vertical-align: top;\n",
              "    }\n",
              "\n",
              "    .dataframe thead th {\n",
              "        text-align: right;\n",
              "    }\n",
              "</style>\n",
              "<table border=\"1\" class=\"dataframe\">\n",
              "  <thead>\n",
              "    <tr style=\"text-align: right;\">\n",
              "      <th></th>\n",
              "      <th>destination</th>\n",
              "      <th>passanger</th>\n",
              "      <th>weather</th>\n",
              "      <th>temperature</th>\n",
              "      <th>time</th>\n",
              "      <th>coupon</th>\n",
              "      <th>expiration</th>\n",
              "      <th>gender</th>\n",
              "      <th>age</th>\n",
              "      <th>maritalStatus</th>\n",
              "      <th>...</th>\n",
              "      <th>CoffeeHouse</th>\n",
              "      <th>CarryAway</th>\n",
              "      <th>RestaurantLessThan20</th>\n",
              "      <th>Restaurant20To50</th>\n",
              "      <th>toCoupon_GEQ5min</th>\n",
              "      <th>toCoupon_GEQ15min</th>\n",
              "      <th>toCoupon_GEQ25min</th>\n",
              "      <th>direction_same</th>\n",
              "      <th>direction_opp</th>\n",
              "      <th>Y</th>\n",
              "    </tr>\n",
              "  </thead>\n",
              "  <tbody>\n",
              "    <tr>\n",
              "      <th>0</th>\n",
              "      <td>No Urgent Place</td>\n",
              "      <td>Alone</td>\n",
              "      <td>Sunny</td>\n",
              "      <td>55</td>\n",
              "      <td>2PM</td>\n",
              "      <td>Restaurant(&lt;20)</td>\n",
              "      <td>1d</td>\n",
              "      <td>Female</td>\n",
              "      <td>21</td>\n",
              "      <td>Unmarried partner</td>\n",
              "      <td>...</td>\n",
              "      <td>never</td>\n",
              "      <td>NaN</td>\n",
              "      <td>4~8</td>\n",
              "      <td>1~3</td>\n",
              "      <td>1</td>\n",
              "      <td>0</td>\n",
              "      <td>0</td>\n",
              "      <td>0</td>\n",
              "      <td>1</td>\n",
              "      <td>1</td>\n",
              "    </tr>\n",
              "    <tr>\n",
              "      <th>1</th>\n",
              "      <td>No Urgent Place</td>\n",
              "      <td>Friend(s)</td>\n",
              "      <td>Sunny</td>\n",
              "      <td>80</td>\n",
              "      <td>10AM</td>\n",
              "      <td>Coffee House</td>\n",
              "      <td>2h</td>\n",
              "      <td>Female</td>\n",
              "      <td>21</td>\n",
              "      <td>Unmarried partner</td>\n",
              "      <td>...</td>\n",
              "      <td>never</td>\n",
              "      <td>NaN</td>\n",
              "      <td>4~8</td>\n",
              "      <td>1~3</td>\n",
              "      <td>1</td>\n",
              "      <td>0</td>\n",
              "      <td>0</td>\n",
              "      <td>0</td>\n",
              "      <td>1</td>\n",
              "      <td>0</td>\n",
              "    </tr>\n",
              "    <tr>\n",
              "      <th>2</th>\n",
              "      <td>No Urgent Place</td>\n",
              "      <td>Friend(s)</td>\n",
              "      <td>Sunny</td>\n",
              "      <td>80</td>\n",
              "      <td>10AM</td>\n",
              "      <td>Carry out &amp; Take away</td>\n",
              "      <td>2h</td>\n",
              "      <td>Female</td>\n",
              "      <td>21</td>\n",
              "      <td>Unmarried partner</td>\n",
              "      <td>...</td>\n",
              "      <td>never</td>\n",
              "      <td>NaN</td>\n",
              "      <td>4~8</td>\n",
              "      <td>1~3</td>\n",
              "      <td>1</td>\n",
              "      <td>1</td>\n",
              "      <td>0</td>\n",
              "      <td>0</td>\n",
              "      <td>1</td>\n",
              "      <td>1</td>\n",
              "    </tr>\n",
              "    <tr>\n",
              "      <th>3</th>\n",
              "      <td>No Urgent Place</td>\n",
              "      <td>Friend(s)</td>\n",
              "      <td>Sunny</td>\n",
              "      <td>80</td>\n",
              "      <td>2PM</td>\n",
              "      <td>Coffee House</td>\n",
              "      <td>2h</td>\n",
              "      <td>Female</td>\n",
              "      <td>21</td>\n",
              "      <td>Unmarried partner</td>\n",
              "      <td>...</td>\n",
              "      <td>never</td>\n",
              "      <td>NaN</td>\n",
              "      <td>4~8</td>\n",
              "      <td>1~3</td>\n",
              "      <td>1</td>\n",
              "      <td>1</td>\n",
              "      <td>0</td>\n",
              "      <td>0</td>\n",
              "      <td>1</td>\n",
              "      <td>0</td>\n",
              "    </tr>\n",
              "    <tr>\n",
              "      <th>4</th>\n",
              "      <td>No Urgent Place</td>\n",
              "      <td>Friend(s)</td>\n",
              "      <td>Sunny</td>\n",
              "      <td>80</td>\n",
              "      <td>2PM</td>\n",
              "      <td>Coffee House</td>\n",
              "      <td>1d</td>\n",
              "      <td>Female</td>\n",
              "      <td>21</td>\n",
              "      <td>Unmarried partner</td>\n",
              "      <td>...</td>\n",
              "      <td>never</td>\n",
              "      <td>NaN</td>\n",
              "      <td>4~8</td>\n",
              "      <td>1~3</td>\n",
              "      <td>1</td>\n",
              "      <td>1</td>\n",
              "      <td>0</td>\n",
              "      <td>0</td>\n",
              "      <td>1</td>\n",
              "      <td>0</td>\n",
              "    </tr>\n",
              "  </tbody>\n",
              "</table>\n",
              "<p>5 rows × 26 columns</p>\n",
              "</div>\n",
              "    <div class=\"colab-df-buttons\">\n",
              "\n",
              "  <div class=\"colab-df-container\">\n",
              "    <button class=\"colab-df-convert\" onclick=\"convertToInteractive('df-8cb4146c-7c3d-433f-9ca1-63bcbfd6beaa')\"\n",
              "            title=\"Convert this dataframe to an interactive table.\"\n",
              "            style=\"display:none;\">\n",
              "\n",
              "  <svg xmlns=\"http://www.w3.org/2000/svg\" height=\"24px\" viewBox=\"0 -960 960 960\">\n",
              "    <path d=\"M120-120v-720h720v720H120Zm60-500h600v-160H180v160Zm220 220h160v-160H400v160Zm0 220h160v-160H400v160ZM180-400h160v-160H180v160Zm440 0h160v-160H620v160ZM180-180h160v-160H180v160Zm440 0h160v-160H620v160Z\"/>\n",
              "  </svg>\n",
              "    </button>\n",
              "\n",
              "  <style>\n",
              "    .colab-df-container {\n",
              "      display:flex;\n",
              "      gap: 12px;\n",
              "    }\n",
              "\n",
              "    .colab-df-convert {\n",
              "      background-color: #E8F0FE;\n",
              "      border: none;\n",
              "      border-radius: 50%;\n",
              "      cursor: pointer;\n",
              "      display: none;\n",
              "      fill: #1967D2;\n",
              "      height: 32px;\n",
              "      padding: 0 0 0 0;\n",
              "      width: 32px;\n",
              "    }\n",
              "\n",
              "    .colab-df-convert:hover {\n",
              "      background-color: #E2EBFA;\n",
              "      box-shadow: 0px 1px 2px rgba(60, 64, 67, 0.3), 0px 1px 3px 1px rgba(60, 64, 67, 0.15);\n",
              "      fill: #174EA6;\n",
              "    }\n",
              "\n",
              "    .colab-df-buttons div {\n",
              "      margin-bottom: 4px;\n",
              "    }\n",
              "\n",
              "    [theme=dark] .colab-df-convert {\n",
              "      background-color: #3B4455;\n",
              "      fill: #D2E3FC;\n",
              "    }\n",
              "\n",
              "    [theme=dark] .colab-df-convert:hover {\n",
              "      background-color: #434B5C;\n",
              "      box-shadow: 0px 1px 3px 1px rgba(0, 0, 0, 0.15);\n",
              "      filter: drop-shadow(0px 1px 2px rgba(0, 0, 0, 0.3));\n",
              "      fill: #FFFFFF;\n",
              "    }\n",
              "  </style>\n",
              "\n",
              "    <script>\n",
              "      const buttonEl =\n",
              "        document.querySelector('#df-8cb4146c-7c3d-433f-9ca1-63bcbfd6beaa button.colab-df-convert');\n",
              "      buttonEl.style.display =\n",
              "        google.colab.kernel.accessAllowed ? 'block' : 'none';\n",
              "\n",
              "      async function convertToInteractive(key) {\n",
              "        const element = document.querySelector('#df-8cb4146c-7c3d-433f-9ca1-63bcbfd6beaa');\n",
              "        const dataTable =\n",
              "          await google.colab.kernel.invokeFunction('convertToInteractive',\n",
              "                                                    [key], {});\n",
              "        if (!dataTable) return;\n",
              "\n",
              "        const docLinkHtml = 'Like what you see? Visit the ' +\n",
              "          '<a target=\"_blank\" href=https://colab.research.google.com/notebooks/data_table.ipynb>data table notebook</a>'\n",
              "          + ' to learn more about interactive tables.';\n",
              "        element.innerHTML = '';\n",
              "        dataTable['output_type'] = 'display_data';\n",
              "        await google.colab.output.renderOutput(dataTable, element);\n",
              "        const docLink = document.createElement('div');\n",
              "        docLink.innerHTML = docLinkHtml;\n",
              "        element.appendChild(docLink);\n",
              "      }\n",
              "    </script>\n",
              "  </div>\n",
              "\n",
              "\n",
              "<div id=\"df-f70de166-ec6b-4042-bb1b-d0ae3414ab9d\">\n",
              "  <button class=\"colab-df-quickchart\" onclick=\"quickchart('df-f70de166-ec6b-4042-bb1b-d0ae3414ab9d')\"\n",
              "            title=\"Suggest charts\"\n",
              "            style=\"display:none;\">\n",
              "\n",
              "<svg xmlns=\"http://www.w3.org/2000/svg\" height=\"24px\"viewBox=\"0 0 24 24\"\n",
              "     width=\"24px\">\n",
              "    <g>\n",
              "        <path d=\"M19 3H5c-1.1 0-2 .9-2 2v14c0 1.1.9 2 2 2h14c1.1 0 2-.9 2-2V5c0-1.1-.9-2-2-2zM9 17H7v-7h2v7zm4 0h-2V7h2v10zm4 0h-2v-4h2v4z\"/>\n",
              "    </g>\n",
              "</svg>\n",
              "  </button>\n",
              "\n",
              "<style>\n",
              "  .colab-df-quickchart {\n",
              "      --bg-color: #E8F0FE;\n",
              "      --fill-color: #1967D2;\n",
              "      --hover-bg-color: #E2EBFA;\n",
              "      --hover-fill-color: #174EA6;\n",
              "      --disabled-fill-color: #AAA;\n",
              "      --disabled-bg-color: #DDD;\n",
              "  }\n",
              "\n",
              "  [theme=dark] .colab-df-quickchart {\n",
              "      --bg-color: #3B4455;\n",
              "      --fill-color: #D2E3FC;\n",
              "      --hover-bg-color: #434B5C;\n",
              "      --hover-fill-color: #FFFFFF;\n",
              "      --disabled-bg-color: #3B4455;\n",
              "      --disabled-fill-color: #666;\n",
              "  }\n",
              "\n",
              "  .colab-df-quickchart {\n",
              "    background-color: var(--bg-color);\n",
              "    border: none;\n",
              "    border-radius: 50%;\n",
              "    cursor: pointer;\n",
              "    display: none;\n",
              "    fill: var(--fill-color);\n",
              "    height: 32px;\n",
              "    padding: 0;\n",
              "    width: 32px;\n",
              "  }\n",
              "\n",
              "  .colab-df-quickchart:hover {\n",
              "    background-color: var(--hover-bg-color);\n",
              "    box-shadow: 0 1px 2px rgba(60, 64, 67, 0.3), 0 1px 3px 1px rgba(60, 64, 67, 0.15);\n",
              "    fill: var(--button-hover-fill-color);\n",
              "  }\n",
              "\n",
              "  .colab-df-quickchart-complete:disabled,\n",
              "  .colab-df-quickchart-complete:disabled:hover {\n",
              "    background-color: var(--disabled-bg-color);\n",
              "    fill: var(--disabled-fill-color);\n",
              "    box-shadow: none;\n",
              "  }\n",
              "\n",
              "  .colab-df-spinner {\n",
              "    border: 2px solid var(--fill-color);\n",
              "    border-color: transparent;\n",
              "    border-bottom-color: var(--fill-color);\n",
              "    animation:\n",
              "      spin 1s steps(1) infinite;\n",
              "  }\n",
              "\n",
              "  @keyframes spin {\n",
              "    0% {\n",
              "      border-color: transparent;\n",
              "      border-bottom-color: var(--fill-color);\n",
              "      border-left-color: var(--fill-color);\n",
              "    }\n",
              "    20% {\n",
              "      border-color: transparent;\n",
              "      border-left-color: var(--fill-color);\n",
              "      border-top-color: var(--fill-color);\n",
              "    }\n",
              "    30% {\n",
              "      border-color: transparent;\n",
              "      border-left-color: var(--fill-color);\n",
              "      border-top-color: var(--fill-color);\n",
              "      border-right-color: var(--fill-color);\n",
              "    }\n",
              "    40% {\n",
              "      border-color: transparent;\n",
              "      border-right-color: var(--fill-color);\n",
              "      border-top-color: var(--fill-color);\n",
              "    }\n",
              "    60% {\n",
              "      border-color: transparent;\n",
              "      border-right-color: var(--fill-color);\n",
              "    }\n",
              "    80% {\n",
              "      border-color: transparent;\n",
              "      border-right-color: var(--fill-color);\n",
              "      border-bottom-color: var(--fill-color);\n",
              "    }\n",
              "    90% {\n",
              "      border-color: transparent;\n",
              "      border-bottom-color: var(--fill-color);\n",
              "    }\n",
              "  }\n",
              "</style>\n",
              "\n",
              "  <script>\n",
              "    async function quickchart(key) {\n",
              "      const quickchartButtonEl =\n",
              "        document.querySelector('#' + key + ' button');\n",
              "      quickchartButtonEl.disabled = true;  // To prevent multiple clicks.\n",
              "      quickchartButtonEl.classList.add('colab-df-spinner');\n",
              "      try {\n",
              "        const charts = await google.colab.kernel.invokeFunction(\n",
              "            'suggestCharts', [key], {});\n",
              "      } catch (error) {\n",
              "        console.error('Error during call to suggestCharts:', error);\n",
              "      }\n",
              "      quickchartButtonEl.classList.remove('colab-df-spinner');\n",
              "      quickchartButtonEl.classList.add('colab-df-quickchart-complete');\n",
              "    }\n",
              "    (() => {\n",
              "      let quickchartButtonEl =\n",
              "        document.querySelector('#df-f70de166-ec6b-4042-bb1b-d0ae3414ab9d button');\n",
              "      quickchartButtonEl.style.display =\n",
              "        google.colab.kernel.accessAllowed ? 'block' : 'none';\n",
              "    })();\n",
              "  </script>\n",
              "</div>\n",
              "\n",
              "    </div>\n",
              "  </div>\n"
            ],
            "application/vnd.google.colaboratory.intrinsic+json": {
              "type": "dataframe",
              "variable_name": "data"
            }
          },
          "metadata": {},
          "execution_count": 906
        }
      ],
      "source": [
        "data.head()"
      ]
    },
    {
      "cell_type": "markdown",
      "metadata": {
        "id": "GcDs78ZH_qRH"
      },
      "source": [
        "2. Investigate the dataset for missing or problematic data."
      ]
    },
    {
      "cell_type": "markdown",
      "source": [
        "      2a. Get the datatypes of all columns."
      ],
      "metadata": {
        "id": "MnPQ7tLgIS_q"
      }
    },
    {
      "cell_type": "code",
      "source": [
        "data.info()"
      ],
      "metadata": {
        "colab": {
          "base_uri": "https://localhost:8080/"
        },
        "id": "1S-6qWodIwAB",
        "outputId": "de5350c4-7dd4-40f2-f22c-232eb5c53334"
      },
      "execution_count": 907,
      "outputs": [
        {
          "output_type": "stream",
          "name": "stdout",
          "text": [
            "<class 'pandas.core.frame.DataFrame'>\n",
            "RangeIndex: 12684 entries, 0 to 12683\n",
            "Data columns (total 26 columns):\n",
            " #   Column                Non-Null Count  Dtype \n",
            "---  ------                --------------  ----- \n",
            " 0   destination           12684 non-null  object\n",
            " 1   passanger             12684 non-null  object\n",
            " 2   weather               12684 non-null  object\n",
            " 3   temperature           12684 non-null  int64 \n",
            " 4   time                  12684 non-null  object\n",
            " 5   coupon                12684 non-null  object\n",
            " 6   expiration            12684 non-null  object\n",
            " 7   gender                12684 non-null  object\n",
            " 8   age                   12684 non-null  object\n",
            " 9   maritalStatus         12684 non-null  object\n",
            " 10  has_children          12684 non-null  int64 \n",
            " 11  education             12684 non-null  object\n",
            " 12  occupation            12684 non-null  object\n",
            " 13  income                12684 non-null  object\n",
            " 14  car                   108 non-null    object\n",
            " 15  Bar                   12577 non-null  object\n",
            " 16  CoffeeHouse           12467 non-null  object\n",
            " 17  CarryAway             12533 non-null  object\n",
            " 18  RestaurantLessThan20  12554 non-null  object\n",
            " 19  Restaurant20To50      12495 non-null  object\n",
            " 20  toCoupon_GEQ5min      12684 non-null  int64 \n",
            " 21  toCoupon_GEQ15min     12684 non-null  int64 \n",
            " 22  toCoupon_GEQ25min     12684 non-null  int64 \n",
            " 23  direction_same        12684 non-null  int64 \n",
            " 24  direction_opp         12684 non-null  int64 \n",
            " 25  Y                     12684 non-null  int64 \n",
            "dtypes: int64(8), object(18)\n",
            "memory usage: 2.5+ MB\n"
          ]
        }
      ]
    },
    {
      "cell_type": "markdown",
      "source": [
        "        2b. Plot the number of missing values for each column."
      ],
      "metadata": {
        "id": "g8McV8FAIz5e"
      }
    },
    {
      "cell_type": "code",
      "source": [
        "data.isnull().sum().sort_values().plot(kind = 'bar')"
      ],
      "metadata": {
        "colab": {
          "base_uri": "https://localhost:8080/",
          "height": 593
        },
        "id": "hQqBBYR5JQIJ",
        "outputId": "538bc513-3ca9-4ea7-d17c-97bf5f72c0a1"
      },
      "execution_count": 908,
      "outputs": [
        {
          "output_type": "execute_result",
          "data": {
            "text/plain": [
              "<Axes: >"
            ]
          },
          "metadata": {},
          "execution_count": 908
        },
        {
          "output_type": "display_data",
          "data": {
            "text/plain": [
              "<Figure size 640x480 with 1 Axes>"
            ],
            "image/png": "[encoded data removed]"
          },
          "metadata": {}
        }
      ]
    },
    {
      "cell_type": "markdown",
      "source": [
        "      2c. Get the count of all missing values per column."
      ],
      "metadata": {
        "id": "lEa0SRY8JXWH"
      }
    },
    {
      "cell_type": "code",
      "execution_count": 909,
      "metadata": {
        "id": "6CwL6oWj_qRH",
        "colab": {
          "base_uri": "https://localhost:8080/"
        },
        "outputId": "814ee87f-994e-4a88-bd01-4d57d510ffbd"
      },
      "outputs": [
        {
          "output_type": "stream",
          "name": "stdout",
          "text": [
            "destination                 0\n",
            "passanger                   0\n",
            "weather                     0\n",
            "temperature                 0\n",
            "time                        0\n",
            "coupon                      0\n",
            "expiration                  0\n",
            "gender                      0\n",
            "age                         0\n",
            "maritalStatus               0\n",
            "has_children                0\n",
            "education                   0\n",
            "occupation                  0\n",
            "income                      0\n",
            "car                     12576\n",
            "Bar                       107\n",
            "CoffeeHouse               217\n",
            "CarryAway                 151\n",
            "RestaurantLessThan20      130\n",
            "Restaurant20To50          189\n",
            "toCoupon_GEQ5min            0\n",
            "toCoupon_GEQ15min           0\n",
            "toCoupon_GEQ25min           0\n",
            "direction_same              0\n",
            "direction_opp               0\n",
            "Y                           0\n",
            "dtype: int64\n"
          ]
        }
      ],
      "source": [
        "missing_values = data.isna().sum()\n",
        "print(missing_values)"
      ]
    },
    {
      "cell_type": "markdown",
      "metadata": {
        "id": "bSdVSpYB_qRH"
      },
      "source": [
        "3. Decide what to do about your missing data -- drop, replace, other..."
      ]
    },
    {
      "cell_type": "markdown",
      "source": [
        "      3a. The column 'car' is excluded, since is does not have a value in the majority of entries."
      ],
      "metadata": {
        "id": "U3krHVT3JwhL"
      }
    },
    {
      "cell_type": "code",
      "source": [
        "# Exclude the 'car' column\n",
        "data_clean = data.drop(columns='car')\n",
        "data_clean.info()"
      ],
      "metadata": {
        "colab": {
          "base_uri": "https://localhost:8080/"
        },
        "id": "iCeh2g79Kxyl",
        "outputId": "4c1544a9-e9cc-419c-e300-a9f556218e9c"
      },
      "execution_count": 910,
      "outputs": [
        {
          "output_type": "stream",
          "name": "stdout",
          "text": [
            "<class 'pandas.core.frame.DataFrame'>\n",
            "RangeIndex: 12684 entries, 0 to 12683\n",
            "Data columns (total 25 columns):\n",
            " #   Column                Non-Null Count  Dtype \n",
            "---  ------                --------------  ----- \n",
            " 0   destination           12684 non-null  object\n",
            " 1   passanger             12684 non-null  object\n",
            " 2   weather               12684 non-null  object\n",
            " 3   temperature           12684 non-null  int64 \n",
            " 4   time                  12684 non-null  object\n",
            " 5   coupon                12684 non-null  object\n",
            " 6   expiration            12684 non-null  object\n",
            " 7   gender                12684 non-null  object\n",
            " 8   age                   12684 non-null  object\n",
            " 9   maritalStatus         12684 non-null  object\n",
            " 10  has_children          12684 non-null  int64 \n",
            " 11  education             12684 non-null  object\n",
            " 12  occupation            12684 non-null  object\n",
            " 13  income                12684 non-null  object\n",
            " 14  Bar                   12577 non-null  object\n",
            " 15  CoffeeHouse           12467 non-null  object\n",
            " 16  CarryAway             12533 non-null  object\n",
            " 17  RestaurantLessThan20  12554 non-null  object\n",
            " 18  Restaurant20To50      12495 non-null  object\n",
            " 19  toCoupon_GEQ5min      12684 non-null  int64 \n",
            " 20  toCoupon_GEQ15min     12684 non-null  int64 \n",
            " 21  toCoupon_GEQ25min     12684 non-null  int64 \n",
            " 22  direction_same        12684 non-null  int64 \n",
            " 23  direction_opp         12684 non-null  int64 \n",
            " 24  Y                     12684 non-null  int64 \n",
            "dtypes: int64(8), object(17)\n",
            "memory usage: 2.4+ MB\n"
          ]
        }
      ]
    },
    {
      "cell_type": "markdown",
      "source": [
        "      3b. Only a few entries have missing values in other columns. These incomplete entries are excluded."
      ],
      "metadata": {
        "id": "AOnspE1lKyff"
      }
    },
    {
      "cell_type": "code",
      "source": [
        "# Exclude other data entries with missing values\n",
        "data_clean = data_clean.dropna()"
      ],
      "metadata": {
        "id": "3Ht9okxFO9vp"
      },
      "execution_count": 911,
      "outputs": []
    },
    {
      "cell_type": "markdown",
      "source": [
        "      3c. What percentage of original data entries is retained after cleaning up the data?"
      ],
      "metadata": {
        "id": "3dJ1IcpsPCZs"
      }
    },
    {
      "cell_type": "code",
      "execution_count": 912,
      "metadata": {
        "id": "tyvoAC5F_qRI",
        "colab": {
          "base_uri": "https://localhost:8080/"
        },
        "outputId": "af938e4c-c9d1-405e-8c5b-3721f35e2fb6"
      },
      "outputs": [
        {
          "output_type": "stream",
          "name": "stdout",
          "text": [
            "After data cleaning, 95 % of data entries remain in the dataset.\n"
          ]
        }
      ],
      "source": [
        "original_total = data.shape[0]\n",
        "clean_total = data_clean.shape[0]\n",
        "percentage_kept = round(clean_total / original_total * 100)\n",
        "print(\"After data cleaning,\",percentage_kept,\"% of data entries remain in the dataset.\")"
      ]
    },
    {
      "cell_type": "markdown",
      "source": [
        "      3d. The column 'age' contains non-numerical entries, this is cleaned up to facilitate analysis.\n",
        "      Also, a typo in the title of one of the columns is fixed."
      ],
      "metadata": {
        "id": "JjTS6VdKluzq"
      }
    },
    {
      "cell_type": "code",
      "source": [
        "# Convert text entries in 'age' column to numerical representation to facilitate analysis.\n",
        "\n",
        "data_clean.loc[:,'age'] = data_clean['age'].replace({'50plus': '51', 'below21': '20'})\n",
        "data_clean.loc[:,'age'] = pd.to_numeric(data_clean['age'])\n",
        "\n",
        "# Typo in column 'passenger' is fixed.\n",
        "data_clean.rename(columns = {'passanger' : 'passenger'}, inplace = True)\n",
        "\n",
        "# Replace nine 'income' string value ranges with numerical categories.\n",
        "data_clean.loc[:,'income'] = data_clean['income'].replace({'Less than $12500': '1', '$12500 - $24999': '2', '$25000 - $37499': '3' , '$37500 - $49999': '4', '$50000 - $62499': '5', '$62500 - $74999': '6', '$75000 - $87499': '7', '$87500 - $99999': '8', '$100000 or More': '9'})\n",
        "data_clean.loc[:,'income'] = pd.to_numeric(data_clean['income'])\n"
      ],
      "metadata": {
        "id": "eYJB0lYdl8ts"
      },
      "execution_count": 913,
      "outputs": []
    },
    {
      "cell_type": "markdown",
      "metadata": {
        "id": "YE6oJbXd_qRI"
      },
      "source": [
        "4. What proportion of the total observations chose to accept the coupon?\n",
        "\n"
      ]
    },
    {
      "cell_type": "code",
      "execution_count": 914,
      "metadata": {
        "id": "86GGqBTv_qRI",
        "colab": {
          "base_uri": "https://localhost:8080/"
        },
        "outputId": "3ad64af2-d83c-4187-81cc-e23969728a34"
      },
      "outputs": [
        {
          "output_type": "stream",
          "name": "stdout",
          "text": [
            "57 % of drivers accepted a coupon.\n"
          ]
        }
      ],
      "source": [
        "coupons_accepted = data_clean[data_clean['Y'] == 1].shape[0]\n",
        "coupons_accepted_per = round(coupons_accepted / clean_total * 100)\n",
        "print(coupons_accepted_per, \"% of drivers accepted a coupon.\")"
      ]
    },
    {
      "cell_type": "markdown",
      "metadata": {
        "id": "vflz0DoE_qRI"
      },
      "source": [
        "5. Use a bar plot to visualize the `coupon` column."
      ]
    },
    {
      "cell_type": "code",
      "execution_count": 915,
      "metadata": {
        "id": "dHFh3E45_qRI",
        "colab": {
          "base_uri": "https://localhost:8080/",
          "height": 595
        },
        "outputId": "1d594df4-1f93-476c-9000-fa76d2c8ef52"
      },
      "outputs": [
        {
          "output_type": "display_data",
          "data": {
            "text/plain": [
              "<Figure size 640x480 with 1 Axes>"
            ],
            "image/png": "[encoded data removed]"
          },
          "metadata": {}
        }
      ],
      "source": [
        "# Plot the histogram using countplot(), sort by number of accepted coupons.\n",
        "sns.countplot(data_clean, x='coupon', hue='Y', order = data_clean['coupon'].value_counts().index)\n",
        "plt.title('Portion of Accepted Coupon Types')\n",
        "plt.legend(title='Accepted', labels=['No', 'Yes'])\n",
        "\n",
        "# Format plot\n",
        "plt.xlabel('')\n",
        "plt.xticks(rotation=90)\n",
        "plt.ylabel('Count')\n",
        "plt.savefig('images/coupon_categories_acceptance.png')"
      ]
    },
    {
      "cell_type": "markdown",
      "metadata": {
        "id": "Qw4lCyx2_qRI"
      },
      "source": [
        "6. Use a histogram to visualize the temperature column."
      ]
    },
    {
      "cell_type": "code",
      "execution_count": 916,
      "metadata": {
        "id": "Yg9Anv71_qRI",
        "colab": {
          "base_uri": "https://localhost:8080/",
          "height": 472
        },
        "outputId": "f29a5050-336c-4d82-c811-a7a3a3620710"
      },
      "outputs": [
        {
          "output_type": "display_data",
          "data": {
            "text/plain": [
              "<Figure size 640x480 with 1 Axes>"
            ],
            "image/png": "[encoded data removed]"
          },
          "metadata": {}
        }
      ],
      "source": [
        "sns.countplot(data_clean, x='temperature', hue='Y')\n",
        "plt.legend(title='Accepted', labels=['No', 'Yes'])\n",
        "plt.title('Coupons Accepted at Different Temperatures')\n",
        "plt.xlabel('Temperature [F]')\n",
        "plt.ylabel('Count')\n",
        "plt.savefig('images/temperature_acceptance.png')"
      ]
    },
    {
      "cell_type": "markdown",
      "source": [
        "Summary of first part\n",
        "\n",
        "The most accepted types of coupons were for lower-priced restaurants or take-away orders, while bar coupons were the ones that were most rejected. Higher outside temperatures increased coupon acceptance rates."
      ],
      "metadata": {
        "id": "Y9WOH2tcKYC4"
      }
    },
    {
      "cell_type": "markdown",
      "metadata": {
        "id": "FupfgeJk_qRJ"
      },
      "source": [
        "**Investigating the Bar Coupons**\n",
        "\n",
        "Now, we will lead you through an exploration of just the bar related coupons.  \n",
        "\n",
        "1. Create a new `DataFrame` that contains just the bar coupons.\n"
      ]
    },
    {
      "cell_type": "code",
      "execution_count": 917,
      "metadata": {
        "id": "tMBlWuGq_qRJ",
        "colab": {
          "base_uri": "https://localhost:8080/"
        },
        "outputId": "70da56ab-14fa-4908-afc3-d9a6ed2c8322"
      },
      "outputs": [
        {
          "output_type": "stream",
          "name": "stdout",
          "text": [
            "(1913, 25)\n"
          ]
        }
      ],
      "source": [
        "bar_coupons = data_clean[data_clean['coupon'] == 'Bar']\n",
        "print(bar_coupons.shape)"
      ]
    },
    {
      "cell_type": "markdown",
      "metadata": {
        "id": "8ue6uCqf_qRJ"
      },
      "source": [
        "2. What proportion of bar coupons were accepted?\n"
      ]
    },
    {
      "cell_type": "code",
      "execution_count": 918,
      "metadata": {
        "id": "hSdte8Mi_qRK",
        "colab": {
          "base_uri": "https://localhost:8080/"
        },
        "outputId": "c9a71cb0-a6b6-43e0-9086-9e29b780a770"
      },
      "outputs": [
        {
          "output_type": "stream",
          "name": "stdout",
          "text": [
            "Only 41 % of people who were offered a coupon for a bar accepted it.\n"
          ]
        }
      ],
      "source": [
        "# DF of accepted the bar coupons\n",
        "bar_coupons_accepted = bar_coupons[bar_coupons['Y'] == 1]\n",
        "\n",
        "# Calculate proportion of accepted bar coupons\n",
        "bar_coupons_accepted_per = round((bar_coupons_accepted.shape[0] / bar_coupons.shape[0]) * 100)\n",
        "print(\"Only\", bar_coupons_accepted_per,\"% of people who were offered a coupon for a bar accepted it.\")"
      ]
    },
    {
      "cell_type": "markdown",
      "metadata": {
        "id": "85nA_iEi_qRK"
      },
      "source": [
        "3. Compare the acceptance rate between those who went to a bar 3 or fewer times a month to those who went more.\n"
      ]
    },
    {
      "cell_type": "code",
      "execution_count": 919,
      "metadata": {
        "id": "LBOrN-XM_qRK",
        "colab": {
          "base_uri": "https://localhost:8080/"
        },
        "outputId": "a3f1206f-eb69-4ca8-b3fe-8f7f7a451b69"
      },
      "outputs": [
        {
          "output_type": "stream",
          "name": "stdout",
          "text": [
            "Bar\n",
            "never    788\n",
            "less1    553\n",
            "1~3      379\n",
            "4~8      147\n",
            "gt8       46\n",
            "Name: count, dtype: int64\n",
            "Bar\n",
            "less1    247\n",
            "1~3      245\n",
            "never    149\n",
            "4~8      114\n",
            "gt8       33\n",
            "Name: count, dtype: int64\n",
            "Drivers who visit bars more than four times per month accepted bar coupons in 76 % of the cases, while drivers who visit bars less often only accepted in 37 % of cases.\n"
          ]
        }
      ],
      "source": [
        "# Count of bar visit frequencies in people who received a bar coupon\n",
        "print(bar_coupons['Bar'].value_counts())\n",
        "\n",
        "# Count of bar visit frequencies in people who accepted a bar coupon\n",
        "print(bar_coupons_accepted['Bar'].value_counts())\n",
        "\n",
        "few_bar_visits = '(Bar == \"never\") or (Bar == \"less1\") or (Bar == \"1~3\")'\n",
        "frequent_bar_visits = '(Bar == \"4~8\") or (Bar == \"gt8\")'\n",
        "\n",
        "few_acceptance_per = round((((bar_coupons_accepted.query(few_bar_visits)).shape[0])/(bar_coupons.query(few_bar_visits)).shape[0])*100)\n",
        "frequent_acceptance_per = round((((bar_coupons_accepted.query(frequent_bar_visits)).shape[0])/(bar_coupons.query(frequent_bar_visits)).shape[0])*100)\n",
        "\n",
        "print(\"Drivers who visit bars more than four times per month accepted bar coupons in\",frequent_acceptance_per,\"% of the cases, while drivers who visit bars less often only accepted in\",few_acceptance_per,\"% of cases.\")\n"
      ]
    },
    {
      "cell_type": "markdown",
      "metadata": {
        "id": "RBgcQwH4_qRK"
      },
      "source": [
        "4. Compare the acceptance rate between drivers who go to a bar more than once a month and are over the age of 25 to the all others.  Is there a difference?\n"
      ]
    },
    {
      "cell_type": "code",
      "execution_count": 920,
      "metadata": {
        "id": "bf28bbeX_qRK",
        "colab": {
          "base_uri": "https://localhost:8080/"
        },
        "outputId": "8f900afa-931e-461b-8850-cceadd8ed5c8"
      },
      "outputs": [
        {
          "output_type": "stream",
          "name": "stdout",
          "text": [
            "Drivers over 25 who go to a bar more than once a month were approx. 1.78 times as likely to accept a bar coupon as all other drivers.\n"
          ]
        }
      ],
      "source": [
        "one_or_more_bar_visits = '((Bar == \"1~3\") or (Bar == \"4~8\") or (Bar == \"gt8\"))'\n",
        "\n",
        "over_25_bar_often = bar_coupons.query(one_or_more_bar_visits).query('age > 25')\n",
        "over_25_bar_often_accepted = over_25_bar_often.query('(Y == 1)')\n",
        "over_25_often_ratio = (over_25_bar_often_accepted.shape[0] / over_25_bar_often.shape[0]) * 100\n",
        "\n",
        "fewer_one_bar_visits = '(Bar == \"never\") or (Bar == \"less1\")'\n",
        "\n",
        "under_25_bar_seldom = bar_coupons.query(fewer_one_bar_visits).query('age <= 25')\n",
        "under_25_bar_seldom_accepted = under_25_bar_seldom.query('(Y == 1)')\n",
        "under_25_seldom_ratio = (under_25_bar_seldom_accepted.shape[0] / under_25_bar_seldom.shape[0]) * 100\n",
        "\n",
        "ratio_comparison_q4 = round(over_25_often_ratio/under_25_seldom_ratio, 2)\n",
        "\n",
        "print('Drivers over 25 who go to a bar more than once a month were approx.', ratio_comparison_q4, 'times as likely to accept a bar coupon as all other drivers.')\n"
      ]
    },
    {
      "cell_type": "markdown",
      "metadata": {
        "id": "S4RKT4PJ_qRK"
      },
      "source": [
        "5. Use the same process to compare the acceptance rate between drivers who go to bars more than once a month and had passengers that were not a kid and had occupations other than farming, fishing, or forestry.\n"
      ]
    },
    {
      "cell_type": "code",
      "execution_count": 921,
      "metadata": {
        "id": "sENaI2Tg_qRK",
        "colab": {
          "base_uri": "https://localhost:8080/"
        },
        "outputId": "adacee81-65ba-4113-c81a-99f512c2e90e"
      },
      "outputs": [
        {
          "output_type": "stream",
          "name": "stdout",
          "text": [
            "Drivers who go to a bar more than once a month, had a passenger who was not a child, and who do not work in farming, fishing or forestry accepted 71 % of bar coupons.\n"
          ]
        }
      ],
      "source": [
        "# print(data_clean['passenger'].unique())\n",
        "# print(data_clean['occupation'].unique())\n",
        "\n",
        "no_kid_passengers = '(passenger != \"Kid(s)\")'\n",
        "not_farmer_fishing_forestry = '(occupation != \"Farming Fishing & Forestry\")'\n",
        "\n",
        "no_kid_bar = bar_coupons.query(one_or_more_bar_visits).query(no_kid_passengers).query(not_farmer_fishing_forestry)\n",
        "no_kid_bar_accepted = no_kid_bar.query('(Y == 1)')\n",
        "no_kid_ratio = round((no_kid_bar_accepted.shape[0] / no_kid_bar.shape[0]) * 100)\n",
        "\n",
        "print('Drivers who go to a bar more than once a month, had a passenger who was not a child, and who do not work in farming, fishing or forestry accepted',no_kid_ratio,'% of bar coupons.')\n"
      ]
    },
    {
      "cell_type": "markdown",
      "metadata": {
        "id": "n2LIUTil_qRK"
      },
      "source": [
        "6. Compare the acceptance rates between those drivers who:\n",
        "\n",
        "- go to bars more than once a month, had passengers that were not a kid, and were not widowed *OR*\n",
        "- go to bars more than once a month and are under the age of 30 *OR*\n",
        "- go to cheap restaurants more than 4 times a month and income is less than 50K.\n",
        "\n"
      ]
    },
    {
      "cell_type": "code",
      "execution_count": 922,
      "metadata": {
        "id": "aK_wEzx7_qRK",
        "colab": {
          "base_uri": "https://localhost:8080/"
        },
        "outputId": "4dbf682e-315d-4aba-d780-351066bc9f3f"
      },
      "outputs": [
        {
          "output_type": "stream",
          "name": "stdout",
          "text": [
            "['Single' 'Married partner' 'Unmarried partner' 'Divorced' 'Widowed']\n",
            "['4~8' '1~3' 'less1' 'gt8' 'never']\n",
            "Drivers who go to a bar more than once a month, had passengers who were not children and were not widowed accepted 71 % of bar coupons.\n",
            "Drivers who go to a bar more than once a month, and are under 30 accepted 72 % of bar coupons.\n",
            "Drivers who go to a cheap restaurant more than four times a month, and whose income is less than 50k accepted 46 % of bar coupons.\n"
          ]
        }
      ],
      "source": [
        "data_clean['age'].unique()\n",
        "print(data_clean['maritalStatus'].unique())\n",
        "print(data_clean['RestaurantLessThan20'].unique())\n",
        "\n",
        "not_widowed_bar = bar_coupons.query(one_or_more_bar_visits).query(no_kid_passengers).query('maritalStatus != \"Widowed\"')\n",
        "not_widowed_bar_accepted = not_widowed_bar.query('(Y == 1)')\n",
        "not_widowed_ratio = round((not_widowed_bar_accepted.shape[0] / not_widowed_bar.shape[0]) * 100)\n",
        "print('Drivers who go to a bar more than once a month, had passengers who were not children and were not widowed accepted', not_widowed_ratio, '% of bar coupons.')\n",
        "\n",
        "under30_bar = bar_coupons.query(one_or_more_bar_visits).query('age < 30')\n",
        "under30_bar_accepted = under30_bar.query('(Y == 1)')\n",
        "under30_ratio = round((under30_bar_accepted.shape[0] / under30_bar.shape[0]) * 100)\n",
        "print('Drivers who go to a bar more than once a month, and are under 30 accepted', under30_ratio, '% of bar coupons.')\n",
        "\n",
        "# Income category 4 = range $37500 - $49999\n",
        "income_below_50k_bar = bar_coupons.query('(RestaurantLessThan20 == \"4~8\") or (RestaurantLessThan20 == \"gt8\")').query('income <= 4')\n",
        "\n",
        "income_below_50k_bar_accepted = income_below_50k_bar.query('(Y == 1)')\n",
        "income_below_50k_ratio = round((income_below_50k_bar_accepted.shape[0] / income_below_50k_bar.shape[0]) * 100)\n",
        "print('Drivers who go to a cheap restaurant more than four times a month, and whose income is less than 50k accepted', income_below_50k_ratio, '% of bar coupons.')"
      ]
    },
    {
      "cell_type": "markdown",
      "metadata": {
        "id": "v3fL3QkO_qRK"
      },
      "source": [
        "7.  Based on these observations, what do you hypothesize about drivers who accepted the bar coupons?"
      ]
    },
    {
      "cell_type": "markdown",
      "source": [
        "Bar coupons are the least popular coupons. Passengers are more likely to accept bar coupons if they are under 30 years old, go to bars more than once a month and have other passengers who are not children."
      ],
      "metadata": {
        "id": "RZiV_UcLJ4vj"
      }
    },
    {
      "cell_type": "markdown",
      "metadata": {
        "id": "r4Hu1zOb_qRL"
      },
      "source": [
        "### Independent Investigation\n",
        "\n",
        "Using the bar coupon example as motivation, you are to explore one of the other coupon groups and try to determine the characteristics of passengers who accept the coupons.  "
      ]
    },
    {
      "cell_type": "markdown",
      "source": [
        "Are male or female drivers more likely to accept coupons?"
      ],
      "metadata": {
        "id": "oz-K3DQsLCR0"
      }
    },
    {
      "cell_type": "code",
      "execution_count": 923,
      "metadata": {
        "id": "0c71cQhu_qRL",
        "colab": {
          "base_uri": "https://localhost:8080/",
          "height": 472
        },
        "outputId": "feed0789-2672-42e3-be51-26203d984a8c"
      },
      "outputs": [
        {
          "output_type": "display_data",
          "data": {
            "text/plain": [
              "<Figure size 640x480 with 1 Axes>"
            ],
            "image/png": "[encoded data removed]"
          },
          "metadata": {}
        }
      ],
      "source": [
        "sns.countplot(data_clean, x='gender', hue='Y')\n",
        "plt.legend(title='Accepted', labels=['No', 'Yes'])\n",
        "plt.title('Coupons Accepted by Male and Female Drivers')\n",
        "plt.xlabel('Gender')\n",
        "plt.ylabel('Count')\n",
        "plt.savefig('images/gender_acceptance.png')"
      ]
    },
    {
      "cell_type": "markdown",
      "source": [
        "Male drivers are more likely to accept coupons.\n",
        "\n"
      ],
      "metadata": {
        "id": "GeXtwqBILHn0"
      }
    },
    {
      "cell_type": "markdown",
      "source": [
        "Does the destination play a role in coupon acceptance?"
      ],
      "metadata": {
        "id": "Hc_CGO_-LS4_"
      }
    },
    {
      "cell_type": "code",
      "execution_count": 924,
      "metadata": {
        "id": "QEsBkvIN_qRL",
        "colab": {
          "base_uri": "https://localhost:8080/",
          "height": 472
        },
        "outputId": "6932e7c4-fcf9-416a-eb4d-3dbba990347a"
      },
      "outputs": [
        {
          "output_type": "display_data",
          "data": {
            "text/plain": [
              "<Figure size 640x480 with 1 Axes>"
            ],
            "image/png": "[encoded data removed]"
          },
          "metadata": {}
        }
      ],
      "source": [
        "sns.countplot(data_clean, x='destination', hue='Y')\n",
        "plt.title(\"Coupon Accepted Based on Different Destinations\")\n",
        "plt.legend(title='Accepted', labels=['No', 'Yes'])\n",
        "plt.xlabel('')\n",
        "plt.xlabel('Count')\n",
        "plt.savefig('images/destination_acceptance.png')"
      ]
    },
    {
      "cell_type": "markdown",
      "source": [
        "Drivers who are headed to a non-urgent destination are most likely to accept a coupon."
      ],
      "metadata": {
        "id": "MZ_dEr1LMsxl"
      }
    },
    {
      "cell_type": "markdown",
      "source": [
        "Among drivers who are headed to a non-urgent destination, is there a gender-based difference in coupon acceptance?"
      ],
      "metadata": {
        "id": "BbR7a7ygNDwN"
      }
    },
    {
      "cell_type": "code",
      "execution_count": 925,
      "metadata": {
        "id": "fTC2WGE3_qRL",
        "colab": {
          "base_uri": "https://localhost:8080/"
        },
        "outputId": "8c7b428c-f7ab-4352-c233-a7b53363deec"
      },
      "outputs": [
        {
          "output_type": "stream",
          "name": "stdout",
          "text": [
            "Male vs. female coupon acceptance ratio during a leisure drive: 1.04\n",
            "Male drivers are approx. as likely as female drivers to accept coupons during a leisure drive.\n"
          ]
        }
      ],
      "source": [
        "data_clean['destination'].unique()\n",
        "No_urgent_place = data_clean[data_clean['destination'] == 'No Urgent Place']\n",
        "No_urgent_place_male = No_urgent_place.query('(gender == \"Male\")')\n",
        "No_urgent_place_male_accepted = No_urgent_place_male.query('(Y == 1)')\n",
        "ratio_male = (No_urgent_place_male_accepted.shape[0]/No_urgent_place_male.shape[0])*100\n",
        "\n",
        "No_urgent_place_female = No_urgent_place.query('(gender == \"Female\")')\n",
        "No_urgent_place_female_accepted = No_urgent_place_female.query('(Y == 1)')\n",
        "ratio_female = (No_urgent_place_female_accepted.shape[0]/No_urgent_place_female.shape[0])*100\n",
        "\n",
        "gender_ratio = round(ratio_male/ratio_female, 2)\n",
        "\n",
        "print('Male vs. female coupon acceptance ratio during a leisure drive:', gender_ratio)\n",
        "print('Male drivers are approx. as likely as female drivers to accept coupons during a leisure drive.')"
      ]
    }
  ],
  "metadata": {
    "kernelspec": {
      "display_name": "Python 3 (ipykernel)",
      "language": "python",
      "name": "python3"
    },
    "language_info": {
      "codemirror_mode": {
        "name": "ipython",
        "version": 3
      },
      "file_extension": ".py",
      "mimetype": "text/x-python",
      "name": "python",
      "nbconvert_exporter": "python",
      "pygments_lexer": "ipython3",
      "version": "3.12.1"
    },
    "colab": {
      "provenance": []
    }
  },
  "nbformat": 4,
  "nbformat_minor": 0
}